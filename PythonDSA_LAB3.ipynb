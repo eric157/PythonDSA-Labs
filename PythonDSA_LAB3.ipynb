{
  "nbformat": 4,
  "nbformat_minor": 0,
  "metadata": {
    "colab": {
      "provenance": [],
      "authorship_tag": "ABX9TyOP4sOu9PZcZJGSSmO0ZkrA",
      "include_colab_link": true
    },
    "kernelspec": {
      "name": "python3",
      "display_name": "Python 3"
    },
    "language_info": {
      "name": "python"
    }
  },
  "cells": [
    {
      "cell_type": "markdown",
      "metadata": {
        "id": "view-in-github",
        "colab_type": "text"
      },
      "source": [
        "<a href=\"https://colab.research.google.com/github/eric157/PythonDSA-Labs/blob/main/PythonDSA_LAB3.ipynb\" target=\"_parent\"><img src=\"https://colab.research.google.com/assets/colab-badge.svg\" alt=\"Open In Colab\"/></a>"
      ]
    },
    {
      "cell_type": "markdown",
      "source": [
        "# **LAB Assignment 3**"
      ],
      "metadata": {
        "id": "cD9co80hKu6Q"
      }
    },
    {
      "cell_type": "markdown",
      "source": [
        "**1. Write a Python program to create a class representing a Circle. Include\n",
        "methods to calculate its area and perimeter.**"
      ],
      "metadata": {
        "id": "0PzgthbICTX4"
      }
    },
    {
      "cell_type": "code",
      "source": [
        "global pi\n",
        "pi = 3.14\n",
        "class Circle:\n",
        "  def __init__(self, radius):\n",
        "    self.radius = radius\n",
        "\n",
        "  def area(self):\n",
        "    return pi * self.radius**2\n",
        "\n",
        "  def perimeter(self):\n",
        "    return 2 * pi * self.radius\n",
        "\n",
        "circle = Circle(5)\n",
        "print(\"Area:\", circle.area())\n",
        "print(\"Perimeter:\", circle.perimeter())"
      ],
      "metadata": {
        "colab": {
          "base_uri": "https://localhost:8080/"
        },
        "id": "Eto7GdcCW-0l",
        "outputId": "1a9a873a-d253-46d0-82f6-b95ce92b1cde"
      },
      "execution_count": null,
      "outputs": [
        {
          "output_type": "stream",
          "name": "stdout",
          "text": [
            "Area: 78.5\n",
            "Perimeter: 31.400000000000002\n"
          ]
        }
      ]
    },
    {
      "cell_type": "markdown",
      "source": [
        "**2. Write a Python program to create a person class. Include attributes like name,\n",
        "country and date of birth. Implement a method to determine the person's age.**"
      ],
      "metadata": {
        "id": "BwulNbJwCX3N"
      }
    },
    {
      "cell_type": "code",
      "source": [
        "from datetime import date\n",
        "\n",
        "class Person:\n",
        "  def __init__(self, name, country, date_of_birth):\n",
        "    self.name = name\n",
        "    self.country = country\n",
        "    self.date_of_birth = date_of_birth\n",
        "\n",
        "  def age(self):\n",
        "    today = date.today()\n",
        "    age = today.year - self.date_of_birth.year\n",
        "    return age\n",
        "\n",
        "person1 = Person(\"Eric\", \"India\", date(2003, 7, 15))\n",
        "person2 = Person(\"Erron\", \"India\", date(2011,11,26))\n",
        "print(\"Age:\", person1.age())\n",
        "print(\"Age:\", person2.age())"
      ],
      "metadata": {
        "colab": {
          "base_uri": "https://localhost:8080/"
        },
        "id": "5NaHxpH0RJNq",
        "outputId": "02c66f3a-cbe2-4f3a-956a-6547ca2a2b74"
      },
      "execution_count": null,
      "outputs": [
        {
          "output_type": "stream",
          "name": "stdout",
          "text": [
            "Age: 21\n",
            "Age: 13\n"
          ]
        }
      ]
    },
    {
      "cell_type": "markdown",
      "source": [
        "**3. Write a Python program to create a calculator class. Include methods for basic\n",
        "arithmetic operations.**"
      ],
      "metadata": {
        "id": "pHEuJp8vCe54"
      }
    },
    {
      "cell_type": "code",
      "source": [
        "class Calculator:\n",
        "  def add(self, x, y):\n",
        "    return x + y\n",
        "\n",
        "  def sub(self, x, y):\n",
        "    return x - y\n",
        "\n",
        "  def mul(self, x, y):\n",
        "    return x * y\n",
        "\n",
        "  def div(self, x, y):\n",
        "    if y == 0:\n",
        "      return \"Division by zero!\"\n",
        "    else:\n",
        "      return x / y\n",
        "\n",
        "calc = Calculator()\n",
        "print(calc.add(20,10))\n",
        "print(calc.sub(20,10))\n",
        "print(calc.mul(20,10))\n",
        "print(calc.div(20,10))"
      ],
      "metadata": {
        "colab": {
          "base_uri": "https://localhost:8080/"
        },
        "id": "fpje98PSS0fK",
        "outputId": "05106ffc-c0b2-457d-cec5-716fa7c8d66d"
      },
      "execution_count": null,
      "outputs": [
        {
          "output_type": "stream",
          "name": "stdout",
          "text": [
            "30\n",
            "10\n",
            "200\n",
            "2.0\n"
          ]
        }
      ]
    },
    {
      "cell_type": "markdown",
      "source": [
        "**4. Write a Python program to create a class representing a stack data structure.\n",
        "Include methods for pushing and popping elements.**"
      ],
      "metadata": {
        "id": "81F8XLxdCjOj"
      }
    },
    {
      "cell_type": "code",
      "source": [
        "class Stack:\n",
        "  def __init__(self):\n",
        "    self.items = []\n",
        "\n",
        "  def is_empty(self):\n",
        "    return len(self.items) == 0\n",
        "\n",
        "  def push(self, item):\n",
        "    self.items.append(item)\n",
        "\n",
        "  def pop(self):\n",
        "    if not self.is_empty():\n",
        "      return self.items.pop()\n",
        "    else:\n",
        "      return None\n",
        "\n",
        "  def peek(self):\n",
        "    if not self.is_empty():\n",
        "      return self.items[-1]\n",
        "    else:\n",
        "      return None\n",
        "\n",
        "  def size(self):\n",
        "    return len(self.items)\n",
        "\n",
        "stack = Stack()\n",
        "print(\"Peeked item:\", stack.peek())\n",
        "print(\"Popped item:\", stack.pop())\n",
        "stack.push(10)\n",
        "print(\"Stack:\", stack.items)\n",
        "stack.push(20)\n",
        "print(\"Stack:\", stack.items)\n",
        "stack.push(30)\n",
        "print(\"Stack:\", stack.items)\n",
        "print(\"Size:\", stack.size())\n",
        "print(\"Peeked item:\", stack.peek())\n",
        "print(\"Popped item:\", stack.pop())\n",
        "print(\"Stack:\", stack.items)\n",
        "print(\"Size:\", stack.size())\n",
        "print(\"Peeked item:\", stack.peek())"
      ],
      "metadata": {
        "colab": {
          "base_uri": "https://localhost:8080/"
        },
        "id": "CSmfvaNATvxK",
        "outputId": "5ba6d95d-3e2c-4ad7-ef91-c024e8acf8b3"
      },
      "execution_count": null,
      "outputs": [
        {
          "output_type": "stream",
          "name": "stdout",
          "text": [
            "Peeked item: None\n",
            "Popped item: None\n",
            "Stack: [10]\n",
            "Stack: [10, 20]\n",
            "Stack: [10, 20, 30]\n",
            "Size: 3\n",
            "Peeked item: 30\n",
            "Popped item: 30\n",
            "Stack: [10, 20]\n",
            "Size: 2\n",
            "Peeked item: 20\n"
          ]
        }
      ]
    },
    {
      "cell_type": "markdown",
      "source": [
        "**5. Write a Python program to create a class representing a shopping cart.\n",
        "Include methods for adding and removing items, and calculating the total price.**"
      ],
      "metadata": {
        "id": "5VXABxVDCoMz"
      }
    },
    {
      "cell_type": "code",
      "source": [
        "class shopping:\n",
        "  cart = dict()\n",
        "\n",
        "  def __init__(self,p_name,p_price,p_quantity):\n",
        "    self.p_name = p_name\n",
        "    self.p_price = p_price\n",
        "    self.p_quantity = p_quantity\n",
        "    self.cart[p_name] = p_price * p_quantity\n",
        "\n",
        "  def add_item(self,p_name,p_price,p_quantity):\n",
        "    self.p_name = p_name\n",
        "    self.p_price = p_price\n",
        "    self.p_quantity = p_quantity\n",
        "    self.cart[p_name] = p_price * p_quantity\n",
        "\n",
        "  def remove_item(self):\n",
        "    self.cart.pop(self.p_name)\n",
        "\n",
        "product1 = shopping('Shoes',10000,1)\n",
        "product2 = shopping('Shirt',1000,2)\n",
        "product3 = shopping('Jeans',2000,3)\n",
        "print(shopping.cart)\n",
        "product1.remove_item()\n",
        "print(shopping.cart)"
      ],
      "metadata": {
        "colab": {
          "base_uri": "https://localhost:8080/"
        },
        "id": "8f1IeuIIT6z3",
        "outputId": "56005eed-6cef-498d-e776-d8603e80287f"
      },
      "execution_count": null,
      "outputs": [
        {
          "output_type": "stream",
          "name": "stdout",
          "text": [
            "{'Shoes': 10000, 'Shirt': 2000, 'Jeans': 6000}\n",
            "{'Shirt': 2000, 'Jeans': 6000}\n"
          ]
        }
      ]
    },
    {
      "cell_type": "markdown",
      "source": [
        "**6. Write a Python program to create a class representing a bank. Include\n",
        "methods for managing customer accounts and transactions.**"
      ],
      "metadata": {
        "id": "FY7gJ_6mCrrO"
      }
    },
    {
      "cell_type": "code",
      "source": [
        "class Bank:\n",
        "  def __init__(self):\n",
        "    self.accounts = {}\n",
        "\n",
        "  def create_account(self, name, initial_balance):\n",
        "    if name in self.accounts:\n",
        "      return \"Account already exists!\"\n",
        "    else:\n",
        "      self.accounts[name] = initial_balance\n",
        "      return \"Account created successfully!\"\n",
        "\n",
        "  def deposit(self, name, amount):\n",
        "    if name not in self.accounts:\n",
        "      return \"Account not found!\"\n",
        "    else:\n",
        "      self.accounts[name] += amount\n",
        "      return \"Deposit successful!\"\n",
        "\n",
        "  def withdraw(self, name, amount):\n",
        "    if name not in self.accounts:\n",
        "      return \"Account not found!\"\n",
        "    elif self.accounts[name] < amount:\n",
        "      return \"Insufficient balance!\"\n",
        "    else:\n",
        "      self.accounts[name] -= amount\n",
        "      return \"Withdrawal successful!\"\n",
        "\n",
        "  def check_balance(self, name):\n",
        "    if name not in self.accounts:\n",
        "      return \"Account not found!\"\n",
        "    else:\n",
        "      return f\"Balance: {self.accounts[name]}\"\n",
        "\n",
        "bank = Bank()\n",
        "print(bank.create_account(\"Eric\", 1000))\n",
        "print(bank.deposit(\"Eric\", 500))\n",
        "print(bank.withdraw(\"Eric\", 200))\n",
        "print(bank.check_balance(\"Eric\"))\n",
        "print(bank.withdraw(\"Eric\", 1500))\n",
        "print(bank.deposit(\"Eric\", 1000))\n",
        "print(bank.check_balance(\"Eric\"))\n",
        "print(bank.withdraw(\"Eric\", 1500))\n",
        "print(bank.check_balance(\"Eric\"))"
      ],
      "metadata": {
        "colab": {
          "base_uri": "https://localhost:8080/"
        },
        "id": "Lwx31-U7As6A",
        "outputId": "91ef80b1-bd23-435b-83ba-9872accec83c"
      },
      "execution_count": null,
      "outputs": [
        {
          "output_type": "stream",
          "name": "stdout",
          "text": [
            "Account created successfully!\n",
            "Deposit successful!\n",
            "Withdrawal successful!\n",
            "Balance: 1300\n",
            "Insufficient balance!\n",
            "Deposit successful!\n",
            "Balance: 2300\n",
            "Withdrawal successful!\n",
            "Balance: 800\n"
          ]
        }
      ]
    },
    {
      "cell_type": "markdown",
      "source": [
        "**7. Write a Python script to generate and print a dictionary that contains a number\n",
        "(between 1 and n) in the form (x, x*x).**"
      ],
      "metadata": {
        "id": "YyvlF5ZlCvaJ"
      }
    },
    {
      "cell_type": "code",
      "source": [
        "n = 5\n",
        "squares = {x: x*x for x in range(1, n+1)}\n",
        "print(squares)"
      ],
      "metadata": {
        "colab": {
          "base_uri": "https://localhost:8080/"
        },
        "id": "RpP1ZgrJBBnh",
        "outputId": "9ba615c6-f6a8-40aa-8b8d-b76c14d1d4aa"
      },
      "execution_count": null,
      "outputs": [
        {
          "output_type": "stream",
          "name": "stdout",
          "text": [
            "{1: 1, 2: 4, 3: 9, 4: 16, 5: 25}\n"
          ]
        }
      ]
    },
    {
      "cell_type": "markdown",
      "source": [
        "**8. Write a Python program to combine two dictionary by adding values for\n",
        "common keys.\n",
        "d1 = {'a': 100, 'b': 200, 'c':300}\n",
        "d2 = {'a': 300, 'b': 200, 'd':400}\n",
        "Sample output: Counter({'a': 400, 'b': 400, 'd': 400, 'c': 300})**"
      ],
      "metadata": {
        "id": "k4L_mLWyCzG2"
      }
    },
    {
      "cell_type": "code",
      "source": [
        "from collections import Counter\n",
        "d1 = {'a': 100, 'b': 200, 'c':300}\n",
        "d2 = {'a': 300, 'b': 200, 'd':400}\n",
        "d = Counter(d1) + Counter(d2)\n",
        "print(d)"
      ],
      "metadata": {
        "colab": {
          "base_uri": "https://localhost:8080/"
        },
        "id": "2XrxlWnYBKS-",
        "outputId": "682aa89b-bffc-40ba-b04d-ccfff145992d"
      },
      "execution_count": null,
      "outputs": [
        {
          "output_type": "stream",
          "name": "stdout",
          "text": [
            "Counter({'a': 400, 'b': 400, 'd': 400, 'c': 300})\n"
          ]
        }
      ]
    },
    {
      "cell_type": "markdown",
      "source": [
        "**9. Write a Python program to match key values in two dictionaries.\n",
        "Sample dictionary: {'key1': 1, 'key2': 3, 'key3': 2}, {'key1': 1, 'key2': 2}\n",
        "Expected output: key1: 1 is present in both x and y**"
      ],
      "metadata": {
        "id": "M2f2fn8uC3QW"
      }
    },
    {
      "cell_type": "code",
      "source": [
        "x = {'key1': 1, 'key2': 3, 'key3': 2}\n",
        "y = {'key1': 1, 'key2': 2}\n",
        "\n",
        "for (key, value) in set(x.items()) & set(y.items()):\n",
        "  print('%s: %s is present in both x and y' % (key, value))"
      ],
      "metadata": {
        "colab": {
          "base_uri": "https://localhost:8080/"
        },
        "id": "dxYbtO-zBfjB",
        "outputId": "23334a3e-9b7f-4193-876c-49bcdf11bc1f"
      },
      "execution_count": null,
      "outputs": [
        {
          "output_type": "stream",
          "name": "stdout",
          "text": [
            "key1: 1 is present in both x and y\n"
          ]
        }
      ]
    },
    {
      "cell_type": "markdown",
      "source": [
        "**10. Write a Python program to split a given dictionary of lists into lists of\n",
        "dictionaries.\n",
        "Original dictionary of lists:\n",
        "{'Science': [88, 89, 62, 95], 'Language': [77, 78, 84, 80]}\n",
        "Split said dictionary of lists into list of dictionaries:\n",
        "[{'Science': 88, 'Language': 77}, {'Science': 89, 'Language': 78}, {'Science': 62,'Language': 84}, {'Science': 95, 'Language': 80}]**"
      ],
      "metadata": {
        "id": "9QPRjaVJC7T_"
      }
    },
    {
      "cell_type": "code",
      "source": [
        "def list_of_dicts(marks):\n",
        "  result = [dict(zip(marks, res)) for res in zip(*marks.values())]\n",
        "  return result\n",
        "\n",
        "marks = {'Science': [88, 89, 62, 95], 'Language': [77, 78, 84, 80]}\n",
        "print(\"Original dictionary of lists:\")\n",
        "print(marks)\n",
        "print(\"\\nSplit said dictionary of lists into list of dictionaries:\")\n",
        "print(list_of_dicts(marks))"
      ],
      "metadata": {
        "colab": {
          "base_uri": "https://localhost:8080/"
        },
        "id": "89BnrGomBvY6",
        "outputId": "6ceddc60-43a9-4225-b262-926fee4a9658"
      },
      "execution_count": null,
      "outputs": [
        {
          "output_type": "stream",
          "name": "stdout",
          "text": [
            "Original dictionary of lists:\n",
            "{'Science': [88, 89, 62, 95], 'Language': [77, 78, 84, 80]}\n",
            "\n",
            "Split said dictionary of lists into list of dictionaries:\n",
            "[{'Science': 88, 'Language': 77}, {'Science': 89, 'Language': 78}, {'Science': 62, 'Language': 84}, {'Science': 95, 'Language': 80}]\n"
          ]
        }
      ]
    },
    {
      "cell_type": "code",
      "source": [],
      "metadata": {
        "id": "ic7ey2hgBwLc"
      },
      "execution_count": null,
      "outputs": []
    }
  ]
}