{
  "nbformat": 4,
  "nbformat_minor": 0,
  "metadata": {
    "colab": {
      "provenance": [],
      "include_colab_link": true
    },
    "kernelspec": {
      "name": "python3",
      "display_name": "Python 3"
    },
    "language_info": {
      "name": "python"
    }
  },
  "cells": [
    {
      "cell_type": "markdown",
      "metadata": {
        "id": "view-in-github",
        "colab_type": "text"
      },
      "source": [
        "<a href=\"https://colab.research.google.com/github/eric157/PythonDSA-Labs/blob/main/PythonDSA_LAB8.ipynb\" target=\"_parent\"><img src=\"https://colab.research.google.com/assets/colab-badge.svg\" alt=\"Open In Colab\"/></a>"
      ]
    },
    {
      "cell_type": "markdown",
      "source": [
        "# **Lab Assignment 8**"
      ],
      "metadata": {
        "id": "xB0Hmo8TJqOh"
      }
    },
    {
      "cell_type": "markdown",
      "source": [
        "\n",
        "**1. Write a function divide(a, b) that takes two numbers and returns their division. Use exception handling to catch and handle a ZeroDivisionError, printing an error message if b is zero.**"
      ],
      "metadata": {
        "id": "QXkJ4mYEqVPu"
      }
    },
    {
      "cell_type": "code",
      "source": [
        "def divide(a,b):\n",
        "  try:\n",
        "   return a/b\n",
        "  except ZeroDivisionError:\n",
        "   print(\"b cannot be zero\")\n",
        "a = int(input(\"Enter the first number: \"))\n",
        "b = int(input(\"Enter the second number: \"))\n",
        "print(divide(a,b))"
      ],
      "metadata": {
        "id": "2BWEf7qzrk46",
        "colab": {
          "base_uri": "https://localhost:8080/"
        },
        "outputId": "171caa5d-d729-40d4-f55a-46208d5fa265"
      },
      "execution_count": 1,
      "outputs": [
        {
          "output_type": "stream",
          "name": "stdout",
          "text": [
            "Enter the first number: 10\n",
            "Enter the second number: 0\n",
            "b cannot be zero\n",
            "None\n"
          ]
        }
      ]
    },
    {
      "cell_type": "markdown",
      "source": [
        "**2. Write a function read_file(filename) that attempts to open a file and read its contents. If the file doesn't exist, handle the FileNotFoundError and print \"File not found.\"**"
      ],
      "metadata": {
        "id": "DDrkxCFwqpjw"
      }
    },
    {
      "cell_type": "code",
      "source": [
        "def read_file(filename):\n",
        "  try:\n",
        "    with open(\"Q2.txt\",\"r\") as f1:\n",
        "      return f.readlines()\n",
        "  except FileNotFoundError:\n",
        "    print(\"File not found\")\n",
        "read_file(\"Q.txt\")"
      ],
      "metadata": {
        "id": "FSGTvSh_rlnx",
        "colab": {
          "base_uri": "https://localhost:8080/"
        },
        "outputId": "0f2f3216-99f3-4ae6-d3e4-a42e26f5707c"
      },
      "execution_count": 2,
      "outputs": [
        {
          "output_type": "stream",
          "name": "stdout",
          "text": [
            "File not found\n"
          ]
        }
      ]
    },
    {
      "cell_type": "markdown",
      "source": [
        "**3. Write a program that prompts the user to enter an integer. If the user enters a non-integer value, catch the ValueError and prompt the user to try again until they provide a valid integer.**"
      ],
      "metadata": {
        "id": "PIRNt0OPqpgi"
      }
    },
    {
      "cell_type": "code",
      "source": [
        "while True:\n",
        "  try:\n",
        "    a=int(input(\"Enter an integer:\"))\n",
        "    break\n",
        "  except ValueError:\n",
        "    print(\"Invalid input\")"
      ],
      "metadata": {
        "id": "7G5QT0bQr3jH",
        "colab": {
          "base_uri": "https://localhost:8080/"
        },
        "outputId": "153e6eed-886c-49dc-abac-12e7de7a32fb"
      },
      "execution_count": 3,
      "outputs": [
        {
          "name": "stdout",
          "output_type": "stream",
          "text": [
            "Enter an integer:eric\n",
            "Invalid input\n",
            "Enter an integer:10\n"
          ]
        }
      ]
    },
    {
      "cell_type": "markdown",
      "source": [
        "**4. Create a custom exception class NegativeValueError. Write a function check_positive(number) that raises NegativeValueError if the input number is negative. Test this with a sample input.**"
      ],
      "metadata": {
        "id": "yVwyXkOqqpd_"
      }
    },
    {
      "cell_type": "code",
      "source": [
        "class NegativeValueError(Exception):\n",
        "  pass\n",
        "def check_positive(number):\n",
        "  try:\n",
        "    a=int(input(\"enter a number: \"))\n",
        "    if a<0:\n",
        "      raise NegativeValueError()\n",
        "    print(a)\n",
        "  except NegativeValueError:\n",
        "    print(\"Number should be non-negative\")\n",
        "  except ValueError as e:\n",
        "    print(e)\n",
        "check_positive(1)"
      ],
      "metadata": {
        "id": "R4ea8z7Rr3Cx",
        "colab": {
          "base_uri": "https://localhost:8080/"
        },
        "outputId": "d7913e16-6147-4af7-f03e-fc38ea874161"
      },
      "execution_count": 4,
      "outputs": [
        {
          "output_type": "stream",
          "name": "stdout",
          "text": [
            "enter a number: 7\n",
            "7\n"
          ]
        }
      ]
    },
    {
      "cell_type": "markdown",
      "source": [
        "**5. Write a function add_numbers(a, b) that returns the sum of a and b. Use exception handling to catch a TypeError if either input is not a number, and print a message: \"Both inputs must be numbers.\"**"
      ],
      "metadata": {
        "id": "zZZHbs5LqpV3"
      }
    },
    {
      "cell_type": "code",
      "source": [
        "def add_numbers(a,b):\n",
        "  try:\n",
        "    if type(a)!= int and type(b)!= int:\n",
        "      raise TypeError\n",
        "    return a+b\n",
        "  except TypeError:\n",
        "    print(\"Both inputs must be numbers\")\n",
        "a = (input(\"Enter the first number: \"))\n",
        "b = (input(\"Enter the second number: \"))\n",
        "add_numbers(a,b)"
      ],
      "metadata": {
        "id": "TCJiAe9lr2g_",
        "colab": {
          "base_uri": "https://localhost:8080/"
        },
        "outputId": "7cc5c876-909b-42ae-cf35-68aca39298bb"
      },
      "execution_count": 5,
      "outputs": [
        {
          "output_type": "stream",
          "name": "stdout",
          "text": [
            "Enter the first number: 7\n",
            "Enter the second number: 10\n",
            "Both inputs must be numbers\n"
          ]
        }
      ]
    },
    {
      "cell_type": "markdown",
      "source": [
        "**6. Write a function get_element(lst, index) that returns the element at a specific index in a list. Use exception handling to catch and handle IndexError if the index is out of range, printing \"Index out of range.\"**"
      ],
      "metadata": {
        "id": "Xvi25FuAqpSV"
      }
    },
    {
      "cell_type": "code",
      "source": [
        "def get_element(l,index):\n",
        "  try:\n",
        "    if index>len(l):\n",
        "      raise IndexError\n",
        "    return l[index]\n",
        "  except IndexError:\n",
        "    print(\"Index Out of Bound\")\n",
        "l=[0,1,2,3,4,5,6,7]\n",
        "index=int(input(\"Enter the index: \"))\n",
        "get_element(l,index)"
      ],
      "metadata": {
        "id": "4PC20mbmr2HN",
        "colab": {
          "base_uri": "https://localhost:8080/"
        },
        "outputId": "c75039e7-740d-4242-d409-dff98e0492e3"
      },
      "execution_count": 6,
      "outputs": [
        {
          "name": "stdout",
          "output_type": "stream",
          "text": [
            "Enter the index: 2\n"
          ]
        },
        {
          "output_type": "execute_result",
          "data": {
            "text/plain": [
              "2"
            ]
          },
          "metadata": {},
          "execution_count": 6
        }
      ]
    },
    {
      "cell_type": "markdown",
      "source": [
        "**7. Simulate a database connection attempt with a function connect_to_database(). If a connection error occurs (simulated by raising a ConnectionError), handle it and print \"Failed to connect to database.\"**"
      ],
      "metadata": {
        "id": "idgTSZqDrSFh"
      }
    },
    {
      "cell_type": "code",
      "source": [
        "def connect_to_database():\n",
        "    try:\n",
        "        # Simulate a connection error\n",
        "        raise ConnectionError(\"Simulated connection failure.\")\n",
        "    except ConnectionError:\n",
        "        print(\"Failed to connect to database.\")\n",
        "\n",
        "# Attempt to connect to the database\n",
        "connect_to_database()\n"
      ],
      "metadata": {
        "id": "3RjHBdZxr1nM",
        "colab": {
          "base_uri": "https://localhost:8080/"
        },
        "outputId": "1476b3a4-ad37-44e5-c616-a3128d6cf987"
      },
      "execution_count": 7,
      "outputs": [
        {
          "output_type": "stream",
          "name": "stdout",
          "text": [
            "Failed to connect to database.\n"
          ]
        }
      ]
    },
    {
      "cell_type": "markdown",
      "source": [
        "**8. Write a function get_value(dictionary, key) that tries to retrieve a value from a dictionary. Use exception handling to catch and handle KeyError if the key doesn't exist, printing \"Key not found.\"**"
      ],
      "metadata": {
        "id": "aP17LpLGrSB_"
      }
    },
    {
      "cell_type": "code",
      "source": [
        "def get_value(dictionary, key):\n",
        "  try:\n",
        "    if key not in dictionary:\n",
        "      raise KeyError\n",
        "    return dictionary[key]\n",
        "  except KeyError:\n",
        "    print(\"Key not found\")\n",
        "dictionary = {\"a\":1,\"b\":2,\"c\":3,\"d\":4}\n",
        "key = input(\"Enter the key: \")\n",
        "get_value(dictionary,key)"
      ],
      "metadata": {
        "id": "kkyZJL9mr1TY",
        "colab": {
          "base_uri": "https://localhost:8080/"
        },
        "outputId": "b9e034f5-f738-4338-a586-6b08349532f9"
      },
      "execution_count": 8,
      "outputs": [
        {
          "output_type": "stream",
          "name": "stdout",
          "text": [
            "Enter the key: x\n",
            "Key not found\n"
          ]
        }
      ]
    },
    {
      "cell_type": "markdown",
      "source": [
        "**9. Write a function process_input(data) that performs different operations based on the input. Catch and handle both ValueError if the data is not a number, and ZeroDivisionError if the input is zero.**"
      ],
      "metadata": {
        "id": "cW99ULXPrctS"
      }
    },
    {
      "cell_type": "code",
      "source": [
        "def process_input(data):\n",
        "  try:\n",
        "    a=int(data)\n",
        "    if a==0:\n",
        "      raise ZeroDivisionError\n",
        "    print(\"input data is: \",data)\n",
        "  except ValueError:\n",
        "    print(\"input data is not a number\")\n",
        "  except ZeroDivisionError:\n",
        "    print(\"input data is a zero\")\n",
        "data = input(\"Enter a number: \")\n",
        "process_input(data)"
      ],
      "metadata": {
        "id": "JXkX_9edr06K",
        "colab": {
          "base_uri": "https://localhost:8080/"
        },
        "outputId": "5c0d6149-82ad-4ec7-dda1-7274a730ad95"
      },
      "execution_count": 9,
      "outputs": [
        {
          "output_type": "stream",
          "name": "stdout",
          "text": [
            "Enter a number: o\n",
            "input data is not a number\n"
          ]
        }
      ]
    },
    {
      "cell_type": "markdown",
      "source": [
        "**10. Write a function process_file(filename) that opens a file, reads a line, and then closes the file. Use try, except, and finally to ensure the file is always closed, regardless of whether an exception occurs.**"
      ],
      "metadata": {
        "id": "qTE0Q-5XqpPu"
      }
    },
    {
      "cell_type": "code",
      "source": [
        "def process_file(filename):\n",
        "  try:\n",
        "    f=open(filename,\"r\")\n",
        "    line=f.readline()\n",
        "    print(line)\n",
        "  except Exception as e:\n",
        "    print(e)\n",
        "  finally:\n",
        "    f.close()\n",
        "f=input(\"Enter file name: \")\n",
        "process_file(f)"
      ],
      "metadata": {
        "id": "D4lrfxjWrjn1",
        "colab": {
          "base_uri": "https://localhost:8080/"
        },
        "outputId": "9778b67c-7b9a-40d5-dec2-ff56bce0b522"
      },
      "execution_count": 10,
      "outputs": [
        {
          "output_type": "stream",
          "name": "stdout",
          "text": [
            "Enter file name: Q.txt\n",
            "My name is Eric Thomas\n"
          ]
        }
      ]
    }
  ]
}