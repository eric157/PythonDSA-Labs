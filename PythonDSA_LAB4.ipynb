{
  "nbformat": 4,
  "nbformat_minor": 0,
  "metadata": {
    "colab": {
      "provenance": [],
      "authorship_tag": "ABX9TyN6xm2Wbq0nDcfx+axP+Pho",
      "include_colab_link": true
    },
    "kernelspec": {
      "name": "python3",
      "display_name": "Python 3"
    },
    "language_info": {
      "name": "python"
    }
  },
  "cells": [
    {
      "cell_type": "markdown",
      "metadata": {
        "id": "view-in-github",
        "colab_type": "text"
      },
      "source": [
        "<a href=\"https://colab.research.google.com/github/eric157/PythonDSA-Labs/blob/main/PythonDSA_LAB4.ipynb\" target=\"_parent\"><img src=\"https://colab.research.google.com/assets/colab-badge.svg\" alt=\"Open In Colab\"/></a>"
      ]
    },
    {
      "cell_type": "markdown",
      "source": [
        "# **Lab Assignment 4**"
      ],
      "metadata": {
        "id": "nrB7k48bRRv9"
      }
    },
    {
      "cell_type": "code",
      "source": [
        "import re"
      ],
      "metadata": {
        "id": "ytdlRHoGSZI2"
      },
      "execution_count": 1,
      "outputs": []
    },
    {
      "cell_type": "markdown",
      "source": [
        "1. Write a Python program to check that a string contains only a certain set of\n",
        "characters (in this case a-z, A-Z and 0-9)."
      ],
      "metadata": {
        "id": "cKItQL-ARoNr"
      }
    },
    {
      "cell_type": "code",
      "execution_count": 2,
      "metadata": {
        "colab": {
          "base_uri": "https://localhost:8080/"
        },
        "id": "vB9NqcfBRNxD",
        "outputId": "4ad2b649-f5b2-4ca1-e0df-d11b76d87bc1"
      },
      "outputs": [
        {
          "output_type": "stream",
          "name": "stdout",
          "text": [
            "String contains only a-z, A-Z and 0-9\n",
            "String contains invalid characters\n"
          ]
        }
      ],
      "source": [
        "def check_string(text):\n",
        "  pattern = r'^[a-zA-Z0-9]+$'\n",
        "  if re.match(pattern, text):\n",
        "    print(\"String contains only a-z, A-Z and 0-9\")\n",
        "  else:\n",
        "    print(\"String contains invalid characters\")\n",
        "\n",
        "text1 = \"EricThomas015\"\n",
        "text2 = \"Eric_Thomas_015\"\n",
        "check_string(text1)\n",
        "check_string(text2)"
      ]
    },
    {
      "cell_type": "markdown",
      "source": [
        "2. Write a Python program that matches a string that has an a followed by\n",
        "zero or more b's."
      ],
      "metadata": {
        "id": "Y2AD6dG3Uuq4"
      }
    },
    {
      "cell_type": "code",
      "source": [
        "def match_string(text):\n",
        "  pattern = r\"ab*\"\n",
        "  if re.match(pattern, text):\n",
        "    print(\"String matches the pattern\")\n",
        "  else:\n",
        "    print(\"String does not match the pattern\")\n",
        "\n",
        "text1 = \"abbb\"\n",
        "text2 = \"a\"\n",
        "text3 = \"ac\"\n",
        "match_string(text1)\n",
        "match_string(text2)\n",
        "match_string(text3)"
      ],
      "metadata": {
        "colab": {
          "base_uri": "https://localhost:8080/"
        },
        "id": "euggiHAtU60c",
        "outputId": "7b04c7d6-259d-4a78-f92a-72a6a6fe4485"
      },
      "execution_count": 3,
      "outputs": [
        {
          "output_type": "stream",
          "name": "stdout",
          "text": [
            "String matches the pattern\n",
            "String matches the pattern\n",
            "String matches the pattern\n"
          ]
        }
      ]
    },
    {
      "cell_type": "markdown",
      "source": [
        "3. Write a Python program to find sequences of lowercase letters joined by an\n",
        "underscore."
      ],
      "metadata": {
        "id": "lhSuoCFeXFkK"
      }
    },
    {
      "cell_type": "code",
      "source": [
        "def find_sequences(text):\n",
        "  pattern = r\"[a-z]+_[a-z]+\"\n",
        "  matches = re.findall(pattern, text)\n",
        "  sequences = []\n",
        "  for match in matches:\n",
        "    sequence = match.split(\"_\")\n",
        "    sequences.append(sequence)\n",
        "  return sequences\n",
        "\n",
        "text = \"eric_thomas darshita_dwivedi\"\n",
        "sequences = find_sequences(text)\n",
        "print(sequences)"
      ],
      "metadata": {
        "colab": {
          "base_uri": "https://localhost:8080/"
        },
        "id": "1gU_sv1QU-2R",
        "outputId": "d1573f89-c0e3-4862-fb1a-459cbf00bf35"
      },
      "execution_count": 4,
      "outputs": [
        {
          "output_type": "stream",
          "name": "stdout",
          "text": [
            "[['eric', 'thomas'], ['darshita', 'dwivedi']]\n"
          ]
        }
      ]
    },
    {
      "cell_type": "markdown",
      "source": [
        "4. Find all the digits in the string \"My phone number is 1234567890.\"."
      ],
      "metadata": {
        "id": "P4kFtGRfXIa1"
      }
    },
    {
      "cell_type": "code",
      "source": [
        "text = \"My phone number is 1234567890.\"\n",
        "digits = re.findall(r'\\d', text)\n",
        "print(digits)"
      ],
      "metadata": {
        "colab": {
          "base_uri": "https://localhost:8080/"
        },
        "id": "wucoC5zFVveN",
        "outputId": "02198d39-bad3-49ba-898e-a5b6395e0f0d"
      },
      "execution_count": 5,
      "outputs": [
        {
          "output_type": "stream",
          "name": "stdout",
          "text": [
            "['1', '2', '3', '4', '5', '6', '7', '8', '9', '0']\n"
          ]
        }
      ]
    },
    {
      "cell_type": "markdown",
      "source": [
        "5. Find all words with exactly 3 characters in the sentence \"The sun is hot.\""
      ],
      "metadata": {
        "id": "NG4BPDwNXLTL"
      }
    },
    {
      "cell_type": "code",
      "source": [
        "sentence = \"The sun is hot.\"\n",
        "words = re.findall(r\"\\w{3}\", sentence)\n",
        "print(words)"
      ],
      "metadata": {
        "colab": {
          "base_uri": "https://localhost:8080/"
        },
        "id": "ijzKorgGWyaG",
        "outputId": "17144c5e-0d1c-44ad-b499-63c3c7671d7a"
      },
      "execution_count": 6,
      "outputs": [
        {
          "output_type": "stream",
          "name": "stdout",
          "text": [
            "['The', 'sun', 'hot']\n"
          ]
        }
      ]
    },
    {
      "cell_type": "markdown",
      "source": [
        "6. Match both \"color\" and \"colour\" in the string \"My favorite color is blue. I like\n",
        "colour too.\"."
      ],
      "metadata": {
        "id": "xtli62SpXN5w"
      }
    },
    {
      "cell_type": "code",
      "source": [
        "text = \"My favorite color is blue. I like colour too.\"\n",
        "pattern = r\"colou?r\"\n",
        "matches = re.findall(pattern, text)\n",
        "print(matches)"
      ],
      "metadata": {
        "colab": {
          "base_uri": "https://localhost:8080/"
        },
        "id": "2eRGqNf8XTrg",
        "outputId": "64e27bca-44c1-40b7-a14d-eafe2e6654e4"
      },
      "execution_count": 7,
      "outputs": [
        {
          "output_type": "stream",
          "name": "stdout",
          "text": [
            "['color', 'colour']\n"
          ]
        }
      ]
    },
    {
      "cell_type": "markdown",
      "source": [
        "7. Write a Python program to remove leading zeros from an IP address."
      ],
      "metadata": {
        "id": "tEhWT-AeXP58"
      }
    },
    {
      "cell_type": "code",
      "source": [
        "def remove_leading_zeros(ip_address):\n",
        "  a = ip_address.split(\".\")\n",
        "  result = []\n",
        "  for x in a:\n",
        "    result.append(str(int(x)))\n",
        "  return \".\".join(result)\n",
        "\n",
        "ip_address = \"192.001.000.1\"\n",
        "new_ip_address = remove_leading_zeros(ip_address)\n",
        "print(new_ip_address)"
      ],
      "metadata": {
        "colab": {
          "base_uri": "https://localhost:8080/"
        },
        "id": "lD00TiMlXZr6",
        "outputId": "60eb3323-9a5a-4ba4-ca1b-1bfa28c3a568"
      },
      "execution_count": 8,
      "outputs": [
        {
          "output_type": "stream",
          "name": "stdout",
          "text": [
            "192.1.0.1\n"
          ]
        }
      ]
    },
    {
      "cell_type": "markdown",
      "source": [
        "8. Write a Python program to replace all occurrences of a space, comma, or\n",
        "dot with a colon."
      ],
      "metadata": {
        "id": "t0eRE_CvXUK5"
      }
    },
    {
      "cell_type": "code",
      "source": [
        "def replace_symbols(text):\n",
        "  for i in text:\n",
        "    if i == \" \" or i == \",\" or i == \".\":\n",
        "      text = text.replace(i, \":\")\n",
        "  return text\n",
        "\n",
        "text = \"Eric Thomas,202418057\"\n",
        "new_text = replace_symbols(text)\n",
        "print(new_text)"
      ],
      "metadata": {
        "colab": {
          "base_uri": "https://localhost:8080/"
        },
        "id": "KlDNnq8bXaLO",
        "outputId": "3b3bb1af-2ca7-432f-f8d8-9522e0102345"
      },
      "execution_count": 9,
      "outputs": [
        {
          "output_type": "stream",
          "name": "stdout",
          "text": [
            "Eric:Thomas:202418057\n"
          ]
        }
      ]
    }
  ]
}