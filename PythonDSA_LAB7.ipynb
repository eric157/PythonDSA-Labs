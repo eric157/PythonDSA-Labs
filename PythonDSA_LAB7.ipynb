{
  "nbformat": 4,
  "nbformat_minor": 0,
  "metadata": {
    "colab": {
      "provenance": [],
      "authorship_tag": "ABX9TyMkOAx4dvPZK4jCjFWXAQcc",
      "include_colab_link": true
    },
    "kernelspec": {
      "name": "python3",
      "display_name": "Python 3"
    },
    "language_info": {
      "name": "python"
    }
  },
  "cells": [
    {
      "cell_type": "markdown",
      "metadata": {
        "id": "view-in-github",
        "colab_type": "text"
      },
      "source": [
        "<a href=\"https://colab.research.google.com/github/eric157/PythonDSA-Labs/blob/main/PythonDSA_LAB7.ipynb\" target=\"_parent\"><img src=\"https://colab.research.google.com/assets/colab-badge.svg\" alt=\"Open In Colab\"/></a>"
      ]
    },
    {
      "cell_type": "markdown",
      "source": [
        "# **LAB Assignment 7**"
      ],
      "metadata": {
        "id": "jzHp5TXwEV8x"
      }
    },
    {
      "cell_type": "markdown",
      "source": [
        "#A) Solve below questions using Queue:"
      ],
      "metadata": {
        "id": "nLEZropxEb55"
      }
    },
    {
      "cell_type": "markdown",
      "source": [
        "**1. Write a Python program to implement a basic queue using the deque class from the collections module. Add, remove, and print elements from the queue.**"
      ],
      "metadata": {
        "id": "l2Ky7wONOtJd"
      }
    },
    {
      "cell_type": "code",
      "source": [
        "from collections import deque\n",
        "\n",
        "queue = deque()\n",
        "\n",
        "def enqueue(n):\n",
        "    queue.append(n)\n",
        "    print(f\"Added {n} to the queue.\")\n",
        "\n",
        "def dequeue():\n",
        "    if len(queue) > 0:\n",
        "        removed_element = queue.popleft()\n",
        "        print(f\"Popped element: {removed_element}\")\n",
        "    else:\n",
        "        print(\"Queue is empty, cannot dequeue.\")\n",
        "\n",
        "def display():\n",
        "    if len(queue) > 0:\n",
        "        print(\"Current queue:\", list(queue))\n",
        "    else:\n",
        "        print(\"Queue is empty.\")\n",
        "\n",
        "enqueue(10)\n",
        "enqueue(20)\n",
        "enqueue(30)\n",
        "display()\n",
        "\n",
        "dequeue()\n",
        "display()\n",
        "\n",
        "dequeue()\n",
        "dequeue()\n",
        "dequeue()"
      ],
      "metadata": {
        "colab": {
          "base_uri": "https://localhost:8080/"
        },
        "id": "t611GI1WFRKU",
        "outputId": "af7d4cb8-bb75-4efd-eb8e-6c4430046af6"
      },
      "execution_count": 1,
      "outputs": [
        {
          "output_type": "stream",
          "name": "stdout",
          "text": [
            "Added 10 to the queue.\n",
            "Added 20 to the queue.\n",
            "Added 30 to the queue.\n",
            "Current queue: [10, 20, 30]\n",
            "Popped element: 10\n",
            "Current queue: [20, 30]\n",
            "Popped element: 20\n",
            "Popped element: 30\n",
            "Queue is empty, cannot dequeue.\n"
          ]
        }
      ]
    },
    {
      "cell_type": "markdown",
      "source": [
        "**2. Implement a queue with a maximum size of 5. When the queue is full, prevent\n",
        "adding new elements, and when empty, prevent removing elements.**"
      ],
      "metadata": {
        "id": "O8mnSVSUE1vb"
      }
    },
    {
      "cell_type": "code",
      "source": [
        "from collections import deque\n",
        "\n",
        "MAX_SIZE = 5\n",
        "Q2 = deque()\n",
        "\n",
        "def enqueue2(n):\n",
        "    if len(Q2) < MAX_SIZE:\n",
        "        Q2.append(n)\n",
        "        print(f\"Added {n} to the queue.\")\n",
        "    else:\n",
        "        print(f\"Queue is full! Cannot add {n}.\")\n",
        "\n",
        "def dequeue2():\n",
        "    if len(Q2) > 0:\n",
        "        removed_element = Q2.popleft()\n",
        "        print(f\"Popped element: {removed_element}\")\n",
        "    else:\n",
        "        print(\"Queue is empty, cannot dequeue.\")\n",
        "\n",
        "def display2():\n",
        "    if len(Q2) > 0:\n",
        "        print(\"Current queue:\", list(Q2))\n",
        "    else:\n",
        "        print(\"Queue is empty.\")\n",
        "\n",
        "# Testing the queue\n",
        "enqueue2(10)\n",
        "enqueue2(20)\n",
        "enqueue2(30)\n",
        "display2()\n",
        "\n",
        "enqueue2(40)\n",
        "enqueue2(50)\n",
        "enqueue2(60)  # Should trigger \"queue is full\"\n",
        "display2()\n",
        "\n",
        "dequeue2()\n",
        "dequeue2()\n",
        "dequeue2()\n",
        "dequeue2()\n",
        "dequeue2()  # Should trigger \"queue is empty\"\n",
        "dequeue2()  # Should trigger \"queue is empty\""
      ],
      "metadata": {
        "colab": {
          "base_uri": "https://localhost:8080/"
        },
        "id": "EwXlVYPlH00M",
        "outputId": "4a355d41-248e-47dd-bd46-d4925c4901c2"
      },
      "execution_count": 2,
      "outputs": [
        {
          "output_type": "stream",
          "name": "stdout",
          "text": [
            "Added 10 to the queue.\n",
            "Added 20 to the queue.\n",
            "Added 30 to the queue.\n",
            "Current queue: [10, 20, 30]\n",
            "Added 40 to the queue.\n",
            "Added 50 to the queue.\n",
            "Queue is full! Cannot add 60.\n",
            "Current queue: [10, 20, 30, 40, 50]\n",
            "Popped element: 10\n",
            "Popped element: 20\n",
            "Popped element: 30\n",
            "Popped element: 40\n",
            "Popped element: 50\n",
            "Queue is empty, cannot dequeue.\n"
          ]
        }
      ]
    },
    {
      "cell_type": "markdown",
      "source": [
        "**3. Given an array nums and an integer k, return the maximum of each sliding\n",
        "window of size k.**"
      ],
      "metadata": {
        "id": "H2Jjly55KTMq"
      }
    },
    {
      "cell_type": "code",
      "source": [
        "from collections import deque\n",
        "\n",
        "def maxSlidingWindow(nums, k):\n",
        "    dq, result = deque(), []\n",
        "\n",
        "    for i in range(len(nums)):\n",
        "        if dq and dq[0] < i - k + 1:\n",
        "            dq.popleft()\n",
        "\n",
        "        while dq and nums[dq[-1]] < nums[i]:\n",
        "            dq.pop()\n",
        "\n",
        "        dq.append(i)\n",
        "\n",
        "        if i >= k - 1:\n",
        "            result.append(nums[dq[0]])\n",
        "\n",
        "    return result\n",
        "\n",
        "# Example usage\n",
        "nums = [1, 3, -1, -3, 5, 3, 6, 7]\n",
        "k = 3\n",
        "print(maxSlidingWindow(nums, k))  # Output: [3, 3, 5, 5, 6, 7]"
      ],
      "metadata": {
        "colab": {
          "base_uri": "https://localhost:8080/"
        },
        "id": "cOUi-pvzM6lE",
        "outputId": "fdb577a3-6f45-4972-a929-0cdd14ed0cab"
      },
      "execution_count": 3,
      "outputs": [
        {
          "output_type": "stream",
          "name": "stdout",
          "text": [
            "[3, 3, 5, 5, 6, 7]\n"
          ]
        }
      ]
    },
    {
      "cell_type": "markdown",
      "source": [
        "#B) Solve below questions using stack:"
      ],
      "metadata": {
        "id": "JOxdZqtvOps4"
      }
    },
    {
      "cell_type": "markdown",
      "source": [
        "**1. Given a string s containing just the characters '(', ')', '{', '}', '[', and ']', determine if\n",
        "the input string is valid.**\n",
        "\n",
        "**A string is valid if:**\n",
        "\n",
        "  \n",
        "\n",
        "\n",
        "\n",
        "\n",
        "*   **Open brackets must be closed by the same type of brackets.**\n",
        "*   **Open brackets must be closed in the correct order.**\n",
        "\n",
        "\n",
        "**Example:**\n",
        "\n",
        "**Input: \"()[]{}\"**\n",
        "\n",
        "**Output: True**"
      ],
      "metadata": {
        "id": "xQJYeRpwQTbl"
      }
    },
    {
      "cell_type": "code",
      "source": [
        "def isValid(s):\n",
        "    stack = []\n",
        "    mapping = {')': '(', '}': '{', ']': '['}\n",
        "\n",
        "    for char in s:\n",
        "        if char in mapping:\n",
        "            top_element = stack.pop() if stack else '#'\n",
        "            if mapping[char] != top_element:\n",
        "                return False\n",
        "        else:\n",
        "            stack.append(char)\n",
        "\n",
        "    return not stack\n",
        "\n",
        "print(isValid(\"()[]{}\"))  # Output: True\n",
        "print(isValid(\"}{()[]{}\"))  # Output: False"
      ],
      "metadata": {
        "colab": {
          "base_uri": "https://localhost:8080/"
        },
        "id": "TlrSALGYOgSp",
        "outputId": "7f0ba6d7-9915-4917-90cc-dabb22e55a2a"
      },
      "execution_count": 4,
      "outputs": [
        {
          "output_type": "stream",
          "name": "stdout",
          "text": [
            "True\n",
            "False\n"
          ]
        }
      ]
    },
    {
      "cell_type": "markdown",
      "source": [
        "**2. Given a circular array, find the next greater element for every element in the\n",
        "array. The next greater element of a number x is the first greater number to its\n",
        "right in the array. If no such number exists, return -1 for that number.**\n",
        "\n",
        "**Example:**\n",
        "\n",
        "**Input: [1, 2, 1]**\n",
        "\n",
        "**Output: [2, -1, 2]**"
      ],
      "metadata": {
        "id": "aDECZR4KO0nt"
      }
    },
    {
      "cell_type": "code",
      "source": [
        "def nextGreaterElements(nums):\n",
        "    n = len(nums)\n",
        "    result = [-1] * n\n",
        "    stack = []\n",
        "\n",
        "    for i in range(2 * n):\n",
        "        while stack and nums[stack[-1]] < nums[i % n]:\n",
        "            result[stack.pop()] = nums[i % n]\n",
        "        if i < n:\n",
        "            stack.append(i)\n",
        "\n",
        "    return result\n",
        "\n",
        "nums = [1, 2, 1]\n",
        "print(nextGreaterElements(nums))"
      ],
      "metadata": {
        "colab": {
          "base_uri": "https://localhost:8080/"
        },
        "id": "npj0V8mPOgls",
        "outputId": "b828d320-1daa-44a0-e290-911101d809a6"
      },
      "execution_count": 5,
      "outputs": [
        {
          "output_type": "stream",
          "name": "stdout",
          "text": [
            "[2, -1, 2]\n"
          ]
        }
      ]
    },
    {
      "cell_type": "markdown",
      "source": [
        "#C) Miscellenous questions:"
      ],
      "metadata": {
        "id": "e121eenfRjc5"
      }
    },
    {
      "cell_type": "markdown",
      "source": [
        "**1. Given an array nums with n objects colored red, white, or blue, sort them in-place\n",
        "so that objects of the same color are adjacent, with the colors in the order red,\n",
        "white, and blue (represented by 0, 1, and 2).**\n",
        "\n",
        "**Example:**\n",
        "\n",
        "**Input: [2, 0, 2, 1, 1, 0]**\n",
        "\n",
        "**Output: [0, 0, 1, 1, 2, 2]**"
      ],
      "metadata": {
        "id": "1xamPoZmRnQp"
      }
    },
    {
      "cell_type": "code",
      "source": [
        "def sortColors(nums):\n",
        "    low, mid, high = 0, 0, len(nums) - 1\n",
        "\n",
        "    while mid <= high:\n",
        "        if nums[mid] == 0:\n",
        "            nums[low], nums[mid] = nums[mid], nums[low]\n",
        "            low += 1\n",
        "            mid += 1\n",
        "        elif nums[mid] == 1:\n",
        "            mid += 1\n",
        "        else:  # nums[mid] == 2\n",
        "            nums[high], nums[mid] = nums[mid], nums[high]\n",
        "            high -= 1\n",
        "\n",
        "nums = [2, 0, 2, 1, 1, 0]\n",
        "sortColors(nums)\n",
        "print(nums)"
      ],
      "metadata": {
        "colab": {
          "base_uri": "https://localhost:8080/"
        },
        "id": "hqcK_EyPRc-v",
        "outputId": "d92fddcd-6445-4b86-b482-b31b2ca6f8b8"
      },
      "execution_count": 6,
      "outputs": [
        {
          "output_type": "stream",
          "name": "stdout",
          "text": [
            "[0, 0, 1, 1, 2, 2]\n"
          ]
        }
      ]
    },
    {
      "cell_type": "markdown",
      "source": [
        "**2. Find the kth largest element in an unsorted array.**"
      ],
      "metadata": {
        "id": "vEbL9q0pSH5J"
      }
    },
    {
      "cell_type": "code",
      "source": [
        "def findKthLargest(nums, k):\n",
        "    nums.sort(reverse=True)\n",
        "    return nums[k - 1]\n",
        "\n",
        "l = [101, 57, 1, 0, 2, 9, 3, 8, 4, 7, 5, 6, 10, 20]\n",
        "k = int(input(\"Enter the value of k: \"))\n",
        "\n",
        "l.sort(reverse=True)\n",
        "print(f\"The {k}th largest element is: {l[k - 1]}\")\n",
        "\n",
        "print(\"Modified list:\", l)"
      ],
      "metadata": {
        "colab": {
          "base_uri": "https://localhost:8080/"
        },
        "id": "wpHgolkwSEQ4",
        "outputId": "b4c53bd3-21b4-422c-d783-b6738fbfba62"
      },
      "execution_count": 7,
      "outputs": [
        {
          "output_type": "stream",
          "name": "stdout",
          "text": [
            "Enter the value of k: 5\n",
            "The 5th largest element is: 9\n",
            "Modified list: [101, 57, 20, 10, 9, 8, 7, 6, 5, 4, 3, 2, 1, 0]\n"
          ]
        }
      ]
    },
    {
      "cell_type": "markdown",
      "source": [
        "**3. Given a collection of intervals, merge all overlapping intervals.**\n",
        "\n",
        "**Input: [[1,3], [2,6], [8,10], [15,18]]**\n",
        "\n",
        "**Output: [[1,6], [8,10], [15,18]}**"
      ],
      "metadata": {
        "id": "uFjstZ2TSkW2"
      }
    },
    {
      "cell_type": "code",
      "source": [
        "def mergeIntervals(intervals):\n",
        "    if not intervals:\n",
        "        return []\n",
        "\n",
        "    intervals.sort(key=lambda x: x[0])\n",
        "    merged = [intervals[0]]\n",
        "\n",
        "    for current in intervals[1:]:\n",
        "        last_merged = merged[-1]\n",
        "        if last_merged[1] >= current[0]:\n",
        "            last_merged[1] = max(last_merged[1], current[1])\n",
        "        else:\n",
        "            merged.append(current)\n",
        "\n",
        "    return merged\n",
        "\n",
        "intervals = [[2, 6], [8, 10], [1, 3], [15, 18]]\n",
        "merged_intervals = mergeIntervals(intervals)\n",
        "print(merged_intervals)"
      ],
      "metadata": {
        "colab": {
          "base_uri": "https://localhost:8080/"
        },
        "id": "9pEiYDCRScnK",
        "outputId": "2bbd51c6-20cf-41aa-a20a-4cdbd7987222"
      },
      "execution_count": 8,
      "outputs": [
        {
          "output_type": "stream",
          "name": "stdout",
          "text": [
            "[[1, 6], [8, 10], [15, 18]]\n"
          ]
        }
      ]
    },
    {
      "cell_type": "markdown",
      "source": [
        "4. Analyze the time complexity of the following code:\n",
        "\n",
        "\n",
        "```\n",
        "def nested_loops(n):\n",
        "  for i in range(n):\n",
        "    for j in range(n):\n",
        "      for k in range(n):\n",
        "        print(i, j, k)\n",
        "```\n",
        "\n"
      ],
      "metadata": {
        "id": "NrIbxulmTASt"
      }
    },
    {
      "cell_type": "markdown",
      "source": [
        "Calculation of Time Complexity:\n",
        "\n",
        "1. **Outer Loop (`i` loop)**: Runs \\( n \\) times.\n",
        "2. **Middle Loop (`j` loop)**: Runs \\( n \\) times for each iteration of `i`.\n",
        "3. **Inner Loop (`k` loop)**: Runs \\( n \\) times for each iteration of `j`.\n",
        "\n",
        "Total Iterations:\n",
        "Total Iterations=n×n×n=n^3\n",
        "\n",
        "The time complexity of the function is O(n^3)."
      ],
      "metadata": {
        "id": "pU9fGVKkS7Au"
      }
    },
    {
      "cell_type": "markdown",
      "source": [
        "5. What is the time complexity of the recursive function below?\n",
        "\n",
        "\n",
        "\n",
        "```\n",
        "def recursive_function(n):\n",
        "    if n <= 1:\n",
        "        return 1\n",
        "    else:\n",
        "        return recursive_function(n - 1) + recursive_function(n - 1)\n",
        "```\n",
        "\n"
      ],
      "metadata": {
        "id": "yMWcKeBGT6il"
      }
    },
    {
      "cell_type": "markdown",
      "source": [
        "Calculation of Time Complexity:\n",
        "1. **Recursive Calls**: Each call to `recursive_function(n)` makes two calls to `recursive_function(n - 1)`.\n",
        "2. **Number of Calls**:\n",
        "   - At depth k, there are 2^k calls.\n",
        "   - The recursion continues until n reaches 1.\n",
        "\n",
        "3. **Total Number of Calls**: = 1 + 2 + 4 + .... + 2^(n-1) = 2^n - 1\n",
        "\n",
        "The time complexity of the function is ***O(2^n)***"
      ],
      "metadata": {
        "id": "4GtPOwltUXNG"
      }
    }
  ]
}