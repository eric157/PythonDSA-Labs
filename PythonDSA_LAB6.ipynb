{
  "nbformat": 4,
  "nbformat_minor": 0,
  "metadata": {
    "colab": {
      "provenance": [],
      "authorship_tag": "ABX9TyPnaMEtmh+9TC5hBxrbQzol",
      "include_colab_link": true
    },
    "kernelspec": {
      "name": "python3",
      "display_name": "Python 3"
    },
    "language_info": {
      "name": "python"
    }
  },
  "cells": [
    {
      "cell_type": "markdown",
      "metadata": {
        "id": "view-in-github",
        "colab_type": "text"
      },
      "source": [
        "<a href=\"https://colab.research.google.com/github/eric157/PythonDSA-Labs/blob/main/PythonDSA_LAB6.ipynb\" target=\"_parent\"><img src=\"https://colab.research.google.com/assets/colab-badge.svg\" alt=\"Open In Colab\"/></a>"
      ]
    },
    {
      "cell_type": "markdown",
      "source": [
        "# **LAB Assignment 6**"
      ],
      "metadata": {
        "id": "jzHp5TXwEV8x"
      }
    },
    {
      "cell_type": "markdown",
      "source": [
        "**1. Reverse a String Given a string, write a function to reverse its characters using both a stack and a queue.**\n",
        "\n",
        "**Example Input: \"hello\"**\n",
        "\n",
        "**Example Output: \"olleh\"**"
      ],
      "metadata": {
        "id": "nLEZropxEb55"
      }
    },
    {
      "cell_type": "code",
      "source": [
        "def reverse_string(string):\n",
        "  stack = []\n",
        "  for i in string:\n",
        "    stack.append(i)\n",
        "  string = \"\"\n",
        "  for i in range(len(stack)):\n",
        "    string = string + stack.pop()\n",
        "  print(string)\n",
        "\n",
        "reverse_string(\"hello\")"
      ],
      "metadata": {
        "colab": {
          "base_uri": "https://localhost:8080/"
        },
        "id": "t611GI1WFRKU",
        "outputId": "7e14c25c-6fe1-42a9-a8a3-cc1e0cb11aae"
      },
      "execution_count": 1,
      "outputs": [
        {
          "output_type": "stream",
          "name": "stdout",
          "text": [
            "olleh\n"
          ]
        }
      ]
    },
    {
      "cell_type": "markdown",
      "source": [
        "**2. Check for Balanced Parentheses Given a string containing only the characters ( and ), write a function tocheck if the parentheses are balanced using both a stack and a queue.**\n",
        "\n",
        "**Example Input: \"(()())\"**\n",
        "\n",
        "**Example Output: True**"
      ],
      "metadata": {
        "id": "O8mnSVSUE1vb"
      }
    },
    {
      "cell_type": "code",
      "source": [
        "def check_parentheses(string):\n",
        "  openstack = ['(','{','[']\n",
        "  closestack = [')','}',']']\n",
        "  stack = []\n",
        "  for i in string:\n",
        "    if i in openstack:\n",
        "      stack.append(i)\n",
        "    else:\n",
        "      if len(stack) == 0:\n",
        "        return False\n",
        "      if openstack.index(stack[-1]) == closestack.index(i):\n",
        "        stack.pop()\n",
        "      else:\n",
        "        return False\n",
        "  if len(stack) == 0:\n",
        "    return True\n",
        "  else:\n",
        "    return False\n",
        "\n",
        "print(check_parentheses(\"(()())\"))\n",
        "print(check_parentheses(\"([])}\"))"
      ],
      "metadata": {
        "colab": {
          "base_uri": "https://localhost:8080/"
        },
        "id": "EwXlVYPlH00M",
        "outputId": "c0d68336-f765-4dc2-a37c-1016f7cd55a5"
      },
      "execution_count": 2,
      "outputs": [
        {
          "output_type": "stream",
          "name": "stdout",
          "text": [
            "True\n",
            "False\n"
          ]
        }
      ]
    },
    {
      "cell_type": "markdown",
      "source": [
        "**3. Implement a Basic Calculator Write a function that evaluates a mathematical expression like 2 + 3 * 4 using both a stack and a queue. Consider only +, -, *, / operators and integers.**\n",
        "\n",
        "**Example Input: \"2 + 3 * 4\"**\n",
        "\n",
        "**Example Output: 14**"
      ],
      "metadata": {
        "id": "H2Jjly55KTMq"
      }
    },
    {
      "cell_type": "code",
      "source": [
        "def precedence(op):\n",
        "    if op == '+' or op == '-':\n",
        "        return 1\n",
        "    if op == '*' or op == '/':\n",
        "        return 2\n",
        "    return 0\n",
        "\n",
        "def apply_operator(operands, operator):\n",
        "    b = operands.pop()\n",
        "    a = operands.pop()\n",
        "    if operator == '+':\n",
        "        return a + b\n",
        "    elif operator == '-':\n",
        "        return a - b\n",
        "    elif operator == '*':\n",
        "        return a * b\n",
        "    elif operator == '/':\n",
        "        return a // b\n",
        "\n",
        "def evaluate_expression(expression):\n",
        "    numbers = []\n",
        "    operators = []\n",
        "    i = 0\n",
        "    while i < len(expression):\n",
        "        if expression[i] == ' ':\n",
        "            i += 1\n",
        "            continue\n",
        "        if expression[i].isdigit():\n",
        "            num = 0\n",
        "            while i < len(expression) and expression[i].isdigit():\n",
        "                num = num * 10 + int(expression[i])\n",
        "                i += 1\n",
        "            numbers.append(num)\n",
        "            i -= 1\n",
        "        elif expression[i] in \"+-*/\":\n",
        "            while (operators and precedence(operators[-1]) >= precedence(expression[i])):\n",
        "                numbers.append(apply_operator(numbers, operators.pop()))\n",
        "            operators.append(expression[i])\n",
        "        i += 1\n",
        "    while operators:\n",
        "        numbers.append(apply_operator(numbers, operators.pop()))\n",
        "    return numbers[-1]\n",
        "\n",
        "expression = \"2 + 3 * 4\"\n",
        "result = evaluate_expression(expression)\n",
        "print(\"Result:\", result)"
      ],
      "metadata": {
        "colab": {
          "base_uri": "https://localhost:8080/"
        },
        "id": "cOUi-pvzM6lE",
        "outputId": "e211e1d4-d0f9-468d-b227-a4ea9c562b0c"
      },
      "execution_count": 3,
      "outputs": [
        {
          "output_type": "stream",
          "name": "stdout",
          "text": [
            "Result: 14\n"
          ]
        }
      ]
    },
    {
      "cell_type": "markdown",
      "source": [
        "**4. Find the Next Greater Element Given an array of integers, write a function to find the next greater element for each element using both a stack and a queue.**\n",
        "\n",
        "**Example Input: [4, 5, 2, 10]**\n",
        "\n",
        "**Example Output: [5, 10, 10, -1]**"
      ],
      "metadata": {
        "id": "JOxdZqtvOps4"
      }
    },
    {
      "cell_type": "code",
      "source": [
        "def next_greater_element(arr):\n",
        "  result = [-1] * len(arr)\n",
        "  stack = []\n",
        "  for i in range(len(arr) - 1, -1, -1):\n",
        "    while stack and stack[-1] <= arr[i]:\n",
        "      stack.pop()\n",
        "    if stack:\n",
        "      result[i] = stack[-1]\n",
        "    stack.append(arr[i])\n",
        "  return result\n",
        "\n",
        "arr = [4, 5, 2, 10]\n",
        "output = next_greater_element(arr)\n",
        "print(output)"
      ],
      "metadata": {
        "colab": {
          "base_uri": "https://localhost:8080/"
        },
        "id": "TlrSALGYOgSp",
        "outputId": "2aaf0498-7c86-4679-b927-ef6c659eac93"
      },
      "execution_count": 4,
      "outputs": [
        {
          "output_type": "stream",
          "name": "stdout",
          "text": [
            "[5, 10, 10, -1]\n"
          ]
        }
      ]
    },
    {
      "cell_type": "markdown",
      "source": [
        "**5. Implement Browser History Design a browser history system with two functions back() and forward(), allowing the user to navigate backward and forward through the browsing history using both a stack and a queue.**"
      ],
      "metadata": {
        "id": "aDECZR4KO0nt"
      }
    },
    {
      "cell_type": "code",
      "source": [
        "class BrowserHistory:\n",
        "    def __init__(self, homepage):\n",
        "        self.history_forward = []\n",
        "        self.history_back = [homepage]\n",
        "        self.current_page = homepage\n",
        "\n",
        "    def visit(self, url):\n",
        "        self.history_back.append(url)\n",
        "        self.history_forward = []\n",
        "        self.current_page = url\n",
        "\n",
        "    def back(self, steps):\n",
        "        while steps > 0 and len(self.history_back) > 1:\n",
        "            self.history_forward.append(self.history_back.pop())\n",
        "            steps -= 1\n",
        "        self.current_page = self.history_back[-1]\n",
        "        return self.current_page\n",
        "\n",
        "    def forward(self, steps):\n",
        "        while steps > 0 and self.history_forward:\n",
        "            self.history_back.append(self.history_forward.pop())\n",
        "            steps -= 1\n",
        "        self.current_page = self.history_back[-1]\n",
        "        return self.current_page\n",
        "\n",
        "browser_history = BrowserHistory(\"colab.research.google.com\")\n",
        "browser_history.visit(\"google.com\")\n",
        "browser_history.visit(\"facebook.com\")\n",
        "browser_history.visit(\"instagram.com\")\n",
        "print(browser_history.back(1))\n",
        "print(browser_history.back(1))\n",
        "print(browser_history.forward(1))\n",
        "browser_history.visit(\"youtube.com\")\n",
        "browser_history.visit(\"twitter.com\")\n",
        "print(browser_history.back(2))\n",
        "print(browser_history.back(1))\n",
        "browser_history.visit(\"amazon.com\")\n",
        "print(browser_history.back(1))\n",
        "print(browser_history.forward(1))\n",
        "browser_history.visit(\"linkedin.com\")\n",
        "print(browser_history.forward(2))\n",
        "print(browser_history.back(2))\n",
        "print(browser_history.back(100000))"
      ],
      "metadata": {
        "colab": {
          "base_uri": "https://localhost:8080/"
        },
        "id": "npj0V8mPOgls",
        "outputId": "787f78f6-7b49-43ed-e452-7aabbe3d8454"
      },
      "execution_count": 5,
      "outputs": [
        {
          "output_type": "stream",
          "name": "stdout",
          "text": [
            "facebook.com\n",
            "google.com\n",
            "facebook.com\n",
            "facebook.com\n",
            "google.com\n",
            "google.com\n",
            "amazon.com\n",
            "linkedin.com\n",
            "google.com\n",
            "colab.research.google.com\n"
          ]
        }
      ]
    }
  ]
}