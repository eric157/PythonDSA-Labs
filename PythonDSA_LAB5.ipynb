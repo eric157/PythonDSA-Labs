{
  "nbformat": 4,
  "nbformat_minor": 0,
  "metadata": {
    "colab": {
      "provenance": [],
      "authorship_tag": "ABX9TyOXK/Zy+ep+1PyKcmCh1LFh",
      "include_colab_link": true
    },
    "kernelspec": {
      "name": "python3",
      "display_name": "Python 3"
    },
    "language_info": {
      "name": "python"
    }
  },
  "cells": [
    {
      "cell_type": "markdown",
      "metadata": {
        "id": "view-in-github",
        "colab_type": "text"
      },
      "source": [
        "<a href=\"https://colab.research.google.com/github/eric157/PythonDSA-Labs/blob/main/PythonDSA_LAB5.ipynb\" target=\"_parent\"><img src=\"https://colab.research.google.com/assets/colab-badge.svg\" alt=\"Open In Colab\"/></a>"
      ]
    },
    {
      "cell_type": "markdown",
      "source": [
        "# **LAB Assignment 5**"
      ],
      "metadata": {
        "id": "Jp2R1Q6ODdyj"
      }
    },
    {
      "cell_type": "markdown",
      "source": [
        "**1. Write a Python program for sequential search. (assume input list yourself)**"
      ],
      "metadata": {
        "id": "syXKgZ5yEK8z"
      }
    },
    {
      "cell_type": "code",
      "execution_count": 1,
      "metadata": {
        "colab": {
          "base_uri": "https://localhost:8080/"
        },
        "id": "I6GZwBTpDINB",
        "outputId": "90806e9e-47fb-480f-bc1c-092440e24442"
      },
      "outputs": [
        {
          "output_type": "stream",
          "name": "stdout",
          "text": [
            "Element 7 found at index 4\n"
          ]
        }
      ],
      "source": [
        "def sequential_search(data, key):\n",
        "  for i in range(len(data)):\n",
        "    if data[i] == key:\n",
        "      return i\n",
        "  return -1\n",
        "\n",
        "my_list = [1, 5, 2, 9, 7, 4, 8, 3]\n",
        "key_to_search = 7\n",
        "\n",
        "result = sequential_search(my_list, key_to_search)\n",
        "\n",
        "if result != -1:\n",
        "  print(f\"Element {key_to_search} found at index {result}\")\n",
        "else:\n",
        "  print(f\"Element {key_to_search} not found in the list\")"
      ]
    },
    {
      "cell_type": "markdown",
      "source": [
        "**2. Sort list [2,66,7,86,55,44,35,90] without using inbuilt sort method.**"
      ],
      "metadata": {
        "id": "SCf6D5_xEvwv"
      }
    },
    {
      "cell_type": "code",
      "source": [
        "def bubble_sort(list_):\n",
        "  n = len(list_)\n",
        "  for i in range(n-1):\n",
        "    for j in range(n-i-1):\n",
        "      if list_[j] > list_[j+1]:\n",
        "        list_[j], list_[j+1] = list_[j+1], list_[j]\n",
        "  return list_\n",
        "\n",
        "my_list = [2, 66, 7, 86, 55, 44, 35, 90]\n",
        "sorted_list = bubble_sort(my_list)\n",
        "print(\"Sorted List:\", sorted_list)"
      ],
      "metadata": {
        "colab": {
          "base_uri": "https://localhost:8080/"
        },
        "id": "8N19y0gvE2zY",
        "outputId": "e31e22dd-517e-4bff-eda0-97a182926ae6"
      },
      "execution_count": 2,
      "outputs": [
        {
          "output_type": "stream",
          "name": "stdout",
          "text": [
            "Sorted List: [2, 7, 35, 44, 55, 66, 86, 90]\n"
          ]
        }
      ]
    },
    {
      "cell_type": "markdown",
      "source": [
        "**3. Consider a 3x3 matrix [[3,4,8],[45,77,2],[5,3,1]] and sort each row of this matrix according to every row’s first element.**"
      ],
      "metadata": {
        "id": "KFHZEE2RE74Q"
      }
    },
    {
      "cell_type": "code",
      "source": [
        "def sort_matrix_rows(matrix):\n",
        "  sorted_matrix = sorted(matrix, key=lambda row: row[0])\n",
        "  return sorted_matrix\n",
        "\n",
        "matrix = [[3, 4, 8], [45, 77, 2], [5, 3, 1]]\n",
        "sorted_matrix = sort_matrix_rows(matrix)\n",
        "print(\"Sorted Matrix:\")\n",
        "print(sorted_matrix)"
      ],
      "metadata": {
        "colab": {
          "base_uri": "https://localhost:8080/"
        },
        "id": "Fm0NbofSE3K0",
        "outputId": "76fe8a19-2e2a-402a-a85e-6c9dee8deb8f"
      },
      "execution_count": 3,
      "outputs": [
        {
          "output_type": "stream",
          "name": "stdout",
          "text": [
            "Sorted Matrix:\n",
            "[[3, 4, 8], [5, 3, 1], [45, 77, 2]]\n"
          ]
        }
      ]
    },
    {
      "cell_type": "markdown",
      "source": [
        "**4. Consider two matrices A = [[64,36,88],[8,70,44],[1,2,4]] and B = [[45,22,66],[4,8,12],[21,22,24]] merge these two matrices into a third matrix and insert every row alternatively starting with matrix A.**"
      ],
      "metadata": {
        "id": "thGvxnQUFQMT"
      }
    },
    {
      "cell_type": "code",
      "source": [
        "def merge_matrices_alternatively(matrix_a, matrix_b):\n",
        "  merged_matrix = []\n",
        "  for i in range(len(matrix_a)):\n",
        "    merged_matrix.append(matrix_a[i])\n",
        "    if i < len(matrix_b):\n",
        "      merged_matrix.append(matrix_b[i])\n",
        "  return merged_matrix\n",
        "\n",
        "\n",
        "matrix_a = [[64, 36, 88], [8, 70, 44], [1, 2, 4]]\n",
        "matrix_b = [[45, 22, 66], [4, 8, 12], [21, 22, 24]]\n",
        "\n",
        "merged_matrix = merge_matrices_alternatively(matrix_a, matrix_b)\n",
        "\n",
        "print(\"Merged Matrix:\")\n",
        "print(merged_matrix)"
      ],
      "metadata": {
        "colab": {
          "base_uri": "https://localhost:8080/"
        },
        "id": "8brDSDI2FGdO",
        "outputId": "6841c2ab-0c9d-40ec-a0bf-cdc7d57c39d7"
      },
      "execution_count": 4,
      "outputs": [
        {
          "output_type": "stream",
          "name": "stdout",
          "text": [
            "Merged Matrix:\n",
            "[[64, 36, 88], [45, 22, 66], [8, 70, 44], [4, 8, 12], [1, 2, 4], [21, 22, 24]]\n"
          ]
        }
      ]
    },
    {
      "cell_type": "markdown",
      "source": [
        "**5. Write a program that sorts an array of strings based on their length. If two strings have the same length, maintain their original order.**"
      ],
      "metadata": {
        "id": "hT5YW1IjFk7O"
      }
    },
    {
      "cell_type": "code",
      "source": [
        "def sort_strings_by_length(strings):\n",
        "  return sorted(strings, key=len)\n",
        "strings = [\"apple\", \"banana\", \"kiwi\", \"orange\", \"grape\"]\n",
        "sorted_strings = sort_strings_by_length(strings)\n",
        "print(\"Sorted strings by length:\", sorted_strings)"
      ],
      "metadata": {
        "colab": {
          "base_uri": "https://localhost:8080/"
        },
        "id": "rDaBARsCFXe3",
        "outputId": "15a45680-8a66-485a-9375-a5a666250476"
      },
      "execution_count": 5,
      "outputs": [
        {
          "output_type": "stream",
          "name": "stdout",
          "text": [
            "Sorted strings by length: ['kiwi', 'apple', 'grape', 'banana', 'orange']\n"
          ]
        }
      ]
    },
    {
      "cell_type": "markdown",
      "source": [
        "**6. Given a list of tuples where each tuple contains two elements, write a program to sort the list based on the second element of each tuple.**"
      ],
      "metadata": {
        "id": "wMscZqKOFz4j"
      }
    },
    {
      "cell_type": "code",
      "source": [
        "def sort_tuples_by_second_element(tuple_list):\n",
        "  return sorted(tuple_list, key=lambda x: x[1])\n",
        "\n",
        "my_tuples = [(1, 5), (3, 2), (2, 8), (4, 1)]\n",
        "sorted_tuples = sort_tuples_by_second_element(my_tuples)\n",
        "print(\"Sorted tuples by second element:\", sorted_tuples)"
      ],
      "metadata": {
        "colab": {
          "base_uri": "https://localhost:8080/"
        },
        "id": "_FgRYBqwFsOQ",
        "outputId": "a95a333d-b947-497f-cd1e-ba105024b709"
      },
      "execution_count": 6,
      "outputs": [
        {
          "output_type": "stream",
          "name": "stdout",
          "text": [
            "Sorted tuples by second element: [(4, 1), (3, 2), (1, 5), (2, 8)]\n"
          ]
        }
      ]
    },
    {
      "cell_type": "markdown",
      "source": [
        "**7. Given an array of integers, write a program to find the kth largest element in the array without sorting the entire array.**"
      ],
      "metadata": {
        "id": "r1A9I3kDGBpS"
      }
    },
    {
      "cell_type": "code",
      "source": [
        "import heapq\n",
        "\n",
        "def find_kth_largest(nums, k):\n",
        "  return heapq.nlargest(k, nums)[-1]\n",
        "nums = [3, 2, 1, 5, 6, 4]\n",
        "k = 2\n",
        "kth_largest = find_kth_largest(nums, k)\n",
        "print(f\"The {k}th largest element is: {kth_largest}\")"
      ],
      "metadata": {
        "colab": {
          "base_uri": "https://localhost:8080/"
        },
        "id": "n2aUvLuiF8IG",
        "outputId": "148bc7e1-c0c6-4aad-a9d9-c84978278bee"
      },
      "execution_count": 7,
      "outputs": [
        {
          "output_type": "stream",
          "name": "stdout",
          "text": [
            "The 2th largest element is: 5\n"
          ]
        }
      ]
    },
    {
      "cell_type": "markdown",
      "source": [
        "**8. Given an array consisting of only 0s, 1s, and 2s, sort the array without using any sorting algorithm**"
      ],
      "metadata": {
        "id": "97mY115hGbz5"
      }
    },
    {
      "cell_type": "code",
      "source": [
        "def sort_012_array(arr):\n",
        "  low = 0\n",
        "  mid = 0\n",
        "  high = len(arr) - 1\n",
        "  while mid <= high:\n",
        "    if arr[mid] == 0:\n",
        "      arr[low], arr[mid] = arr[mid], arr[low]\n",
        "      low += 1\n",
        "      mid += 1\n",
        "    elif arr[mid] == 1:\n",
        "      mid += 1\n",
        "    else:\n",
        "      arr[mid], arr[high] = arr[high], arr[mid]\n",
        "      high -= 1\n",
        "  return arr\n",
        "\n",
        "arr = [0, 1, 1, 0, 1, 2, 1, 2, 0, 0, 0, 1]\n",
        "sorted_arr = sort_012_array(arr)\n",
        "print(\"Sorted array:\", sorted_arr)"
      ],
      "metadata": {
        "colab": {
          "base_uri": "https://localhost:8080/"
        },
        "id": "NEjTo7fxGXka",
        "outputId": "e7a205b7-02bc-4157-ce03-c2df49d228c2"
      },
      "execution_count": 8,
      "outputs": [
        {
          "output_type": "stream",
          "name": "stdout",
          "text": [
            "Sorted array: [0, 0, 0, 0, 0, 1, 1, 1, 1, 1, 2, 2]\n"
          ]
        }
      ]
    },
    {
      "cell_type": "markdown",
      "source": [
        "**9. Given an array of integers, write a function to sort the array in such a way that all even numbers appear before the odd numbers. Input: [7, 3, 2, 6, 4, 9, 10]**"
      ],
      "metadata": {
        "id": "_HrZLmMpGjft"
      }
    },
    {
      "cell_type": "code",
      "source": [
        "def sort_even_odd(arr):\n",
        "  left = 0\n",
        "  right = len(arr) - 1\n",
        "  while left < right:\n",
        "    while left < len(arr) and arr[left] % 2 == 0:\n",
        "      left += 1\n",
        "    while right >= 0 and arr[right] % 2 != 0:\n",
        "      right -= 1\n",
        "    if left < right:\n",
        "      arr[left], arr[right] = arr[right], arr[left]\n",
        "      left += 1\n",
        "      right -= 1\n",
        "  return arr\n",
        "\n",
        "arr = [7, 3, 2, 6, 4, 9, 10]\n",
        "sorted_arr = sort_even_odd(arr)\n",
        "print(\"Sorted array:\", sorted_arr)"
      ],
      "metadata": {
        "colab": {
          "base_uri": "https://localhost:8080/"
        },
        "id": "iHEHTSItGYuu",
        "outputId": "f459bc19-c743-435a-bbab-0759ca22421d"
      },
      "execution_count": 9,
      "outputs": [
        {
          "output_type": "stream",
          "name": "stdout",
          "text": [
            "Sorted array: [10, 4, 2, 6, 3, 9, 7]\n"
          ]
        }
      ]
    },
    {
      "cell_type": "markdown",
      "source": [
        "**10. Write a Python function to merge two sorted arrays into one sorted array.**"
      ],
      "metadata": {
        "id": "srXoetPuGyAp"
      }
    },
    {
      "cell_type": "code",
      "source": [
        "def merge_sorted_arrays(arr1, arr2):\n",
        "  merged_array = []\n",
        "  i = 0\n",
        "  j = 0\n",
        "  while i < len(arr1) and j < len(arr2):\n",
        "    if arr1[i] <= arr2[j]:\n",
        "      merged_array.append(arr1[i])\n",
        "      i += 1\n",
        "    else:\n",
        "      merged_array.append(arr2[j])\n",
        "      j += 1\n",
        "  while i < len(arr1):\n",
        "    merged_array.append(arr1[i])\n",
        "    i += 1\n",
        "  while j < len(arr2):\n",
        "    merged_array.append(arr2[j])\n",
        "    j += 1\n",
        "  return merged_array\n",
        "\n",
        "arr1 = [2, 5, 8, 12]\n",
        "arr2 = [1, 3, 6, 9, 11]\n",
        "merged_arr = merge_sorted_arrays(arr1, arr2)\n",
        "print(\"Merged sorted array:\", merged_arr)"
      ],
      "metadata": {
        "colab": {
          "base_uri": "https://localhost:8080/"
        },
        "id": "EizGHItbG3jr",
        "outputId": "4d1a16a5-7e1d-431d-8b85-a7982f41bbff"
      },
      "execution_count": 10,
      "outputs": [
        {
          "output_type": "stream",
          "name": "stdout",
          "text": [
            "Merged sorted array: [1, 2, 3, 5, 6, 8, 9, 11, 12]\n"
          ]
        }
      ]
    }
  ]
}