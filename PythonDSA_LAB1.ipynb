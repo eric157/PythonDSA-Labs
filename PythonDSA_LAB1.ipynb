{
  "nbformat": 4,
  "nbformat_minor": 0,
  "metadata": {
    "colab": {
      "provenance": [],
      "authorship_tag": "ABX9TyN2duzQMSli3w+4Gk6W9fFA",
      "include_colab_link": true
    },
    "kernelspec": {
      "name": "python3",
      "display_name": "Python 3"
    },
    "language_info": {
      "name": "python"
    }
  },
  "cells": [
    {
      "cell_type": "markdown",
      "metadata": {
        "id": "view-in-github",
        "colab_type": "text"
      },
      "source": [
        "<a href=\"https://colab.research.google.com/github/eric157/PythonDSA-Labs/blob/main/PythonDSA_LAB1.ipynb\" target=\"_parent\"><img src=\"https://colab.research.google.com/assets/colab-badge.svg\" alt=\"Open In Colab\"/></a>"
      ]
    },
    {
      "cell_type": "markdown",
      "source": [
        "# **Lab Assignment 1**"
      ],
      "metadata": {
        "id": "s_FQZkPrOo0K"
      }
    },
    {
      "cell_type": "markdown",
      "source": [
        "1. Write a Python script to read the content of `text_file.txt` and print it to the\n",
        "console."
      ],
      "metadata": {
        "id": "rVLASr43Oz74"
      }
    },
    {
      "cell_type": "code",
      "execution_count": 1,
      "metadata": {
        "colab": {
          "base_uri": "https://localhost:8080/"
        },
        "id": "Ca-dQqwCNqmv",
        "outputId": "eae02b5f-b544-486b-fa23-f4894c7cf12d"
      },
      "outputs": [
        {
          "output_type": "stream",
          "name": "stdout",
          "text": [
            "Hello,\n",
            "My name is Eric Thomas\n",
            "I prefer Python language for coding\n",
            "Python is a versatile programming language. It is widely used in web development, data analysis, and artificial intelligence.\n",
            "Python supports multiple programming paradigms, including procedural, object-oriented, and functional programming.\n",
            "Python's syntax is designed to be readable and straightforward.\n",
            "Many popular libraries and frameworks are built on Python, such as Django and TensorFlow.\n",
            "Python's popularity has grown significantly over the years due to its simplicity and readability.\n"
          ]
        }
      ],
      "source": [
        "with open('text_file.txt', 'r') as f:\n",
        "  print(f.read())"
      ]
    },
    {
      "cell_type": "markdown",
      "source": [
        "2. Write a Python script to count and print the number of lines in `text_file.txt`."
      ],
      "metadata": {
        "id": "vOpvqN3GO3se"
      }
    },
    {
      "cell_type": "code",
      "source": [
        "with open('text_file.txt', 'r') as f:\n",
        "  lines = f.readlines()\n",
        "  print(len(lines))"
      ],
      "metadata": {
        "colab": {
          "base_uri": "https://localhost:8080/"
        },
        "id": "GxZUWpC3OvPO",
        "outputId": "5a0b9dda-bb1f-4f5a-c509-7869660269bc"
      },
      "execution_count": 2,
      "outputs": [
        {
          "output_type": "stream",
          "name": "stdout",
          "text": [
            "8\n"
          ]
        }
      ]
    },
    {
      "cell_type": "markdown",
      "source": [
        "3. Write a Python script to find and print all lines in `text_file.txt` that contain the\n",
        "word \"Python\"."
      ],
      "metadata": {
        "id": "e8xC2ut2O6IU"
      }
    },
    {
      "cell_type": "code",
      "source": [
        "with open('text_file.txt', 'r') as f:\n",
        "  for line in f:\n",
        "    if 'Python' in line:\n",
        "      print(line)"
      ],
      "metadata": {
        "colab": {
          "base_uri": "https://localhost:8080/"
        },
        "id": "lfX4PTi0PZ9-",
        "outputId": "cc7621c7-2957-4b6f-8fb5-837bad17bba1"
      },
      "execution_count": 3,
      "outputs": [
        {
          "output_type": "stream",
          "name": "stdout",
          "text": [
            "I prefer Python language for coding\n",
            "\n",
            "Python is a versatile programming language. It is widely used in web development, data analysis, and artificial intelligence.\n",
            "\n",
            "Python supports multiple programming paradigms, including procedural, object-oriented, and functional programming.\n",
            "\n",
            "Python's syntax is designed to be readable and straightforward.\n",
            "\n",
            "Many popular libraries and frameworks are built on Python, such as Django and TensorFlow.\n",
            "\n",
            "Python's popularity has grown significantly over the years due to its simplicity and readability.\n"
          ]
        }
      ]
    },
    {
      "cell_type": "markdown",
      "source": [
        "4. Write a Python script to replace all occurrences of the word \"Python\" with\n",
        "\"JavaScript\" in `text_file.txt` and save the changes to the same file."
      ],
      "metadata": {
        "id": "kOknlEs7O8Na"
      }
    },
    {
      "cell_type": "code",
      "source": [
        "with open('text_file.txt', 'r') as f:\n",
        "  file_content = f.read()\n",
        "  file_content = file_content.replace('Python', 'JavaScript')\n",
        "with open('text_file.txt', 'w') as f:\n",
        "  f.write(file_content)\n",
        "\n",
        "# Output:\n",
        "# Updated text_file.txt:\n",
        "\n",
        "# Hello,\n",
        "# My name is Eric Thomas\n",
        "# I prefer JavaScript language for coding\n",
        "# JavaScript is a versatile programming language. It is widely used in web development, data analysis, and artificial intelligence.\n",
        "# JavaScript supports multiple programming paradigms, including procedural, object-oriented, and functional programming.\n",
        "# JavaScript's syntax is designed to be readable and straightforward.\n",
        "# Many popular libraries and frameworks are built on JavaScript, such as Django and TensorFlow.\n",
        "# JavaScript's popularity has grown significantly over the years due to its simplicity and readability."
      ],
      "metadata": {
        "id": "_5p5os7MPhGp"
      },
      "execution_count": 4,
      "outputs": []
    },
    {
      "cell_type": "markdown",
      "source": [
        "5. Write a Python script to create a new file named `new_text_file.txt` and write a\n",
        "list of strings to it, with each string on a new line."
      ],
      "metadata": {
        "id": "EySHuih4O-bH"
      }
    },
    {
      "cell_type": "code",
      "source": [
        "strings = ['This is the first line.', 'This is the second line.', 'This is the third line.']\n",
        "with open('new_text_file.txt', 'w') as f:\n",
        "  for string in strings:\n",
        "    f.write(string + '\\n')\n",
        "\n",
        "# Output:\n",
        "# new_text_file.txt:\n",
        "\n",
        "# This is the first line.\n",
        "# This is the second line.\n",
        "# This is the third line."
      ],
      "metadata": {
        "id": "HAX_pNXePp_1"
      },
      "execution_count": 5,
      "outputs": []
    },
    {
      "cell_type": "markdown",
      "source": [
        "6. Write a Python script to count and print the number of occurrences of the word\n",
        "\"language\" in `text_file.txt`."
      ],
      "metadata": {
        "id": "bNDOZ3QzPBs9"
      }
    },
    {
      "cell_type": "code",
      "source": [
        "with open('text_file.txt', 'r') as f:\n",
        "  file_content = f.read()\n",
        "  words = file_content.split()\n",
        "  count = words.count('language')\n",
        "  print(count)"
      ],
      "metadata": {
        "colab": {
          "base_uri": "https://localhost:8080/"
        },
        "id": "_cL6HRnCPqlz",
        "outputId": "07b053ac-39b5-4ad5-9557-c5f9bd4f090e"
      },
      "execution_count": 6,
      "outputs": [
        {
          "output_type": "stream",
          "name": "stdout",
          "text": [
            "1\n"
          ]
        }
      ]
    },
    {
      "cell_type": "markdown",
      "source": [
        "7. Write a Python script to extract all lines longer than 50 characters from\n",
        "`text_file.txt` and save them to `long_lines.txt`."
      ],
      "metadata": {
        "id": "aC7OUzkXPLXt"
      }
    },
    {
      "cell_type": "code",
      "source": [
        "with open('text_file.txt', 'r') as f:\n",
        "  with open('long_lines.txt', 'w') as outfile:\n",
        "    for line in f:\n",
        "      if len(line) > 50:\n",
        "        outfile.write(line)\n",
        "\n",
        "# Output:\n",
        "# long_lines.txt:\n",
        "\n",
        "# JavaScript is a versatile programming language. It is widely used in web development, data analysis, and artificial intelligence.\n",
        "# JavaScript supports multiple programming paradigms, including procedural, object-oriented, and functional programming.\n",
        "# JavaScript's syntax is designed to be readable and straightforward.\n",
        "# Many popular libraries and frameworks are built on JavaScript, such as Django and TensorFlow.\n",
        "# JavaScript's popularity has grown significantly over the years due to its simplicity and readability."
      ],
      "metadata": {
        "id": "1cwzVwCIPrBX"
      },
      "execution_count": 7,
      "outputs": []
    },
    {
      "cell_type": "markdown",
      "source": [
        "8. Write a Python script to reverse the content of `text_file.txt` and save it to\n",
        "`reversed_text_file.txt`."
      ],
      "metadata": {
        "id": "Uq80dNVePN8e"
      }
    },
    {
      "cell_type": "code",
      "source": [
        "with open('text_file.txt', 'r') as f:\n",
        "  file_content = f.read()\n",
        "  reversed_content = file_content[::-1]\n",
        "with open('reversed_text_file.txt', 'w') as f:\n",
        "  f.write(reversed_content)\n",
        "\n",
        "# Output:\n",
        "# reversed_text_file.txt:\n",
        "\n",
        "# .ytilibadaer dna yticilpmis sti ot eud sraey eht revo yltnacifingis nworg sah ytiralupop s'tpircSavaJ\n",
        "# .wolFrosneT dna ognajD sa hcus ,tpircSavaJ no tliub era skrowemarf dna seirarbil ralupop ynaM\n",
        "# .drawrofthgiarts dna elbadaer eb ot dengised si xatnys s'tpircSavaJ\n",
        "# .gnimmargorp lanoitcnuf dna ,detneiro-tcejbo ,larudecorp gnidulcni ,smgidarap gnimmargorp elpitlum stroppus tpircSavaJ\n",
        "# .ecnegilletni laicifitra dna ,sisylana atad ,tnempoleved bew ni desu ylediw si tI .egaugnal gnimmargorp elitasrev a si tpircSavaJ\n",
        "# gnidoc rof egaugnal tpircSavaJ referp I\n",
        "# samohT cirE si eman yM\n",
        "# ,olleH"
      ],
      "metadata": {
        "id": "wu4-bODZPrcH"
      },
      "execution_count": 8,
      "outputs": []
    },
    {
      "cell_type": "markdown",
      "source": [
        "9. Write a Python script to read `text_file.txt` and write a new file\n",
        "`numbered_text_file.txt` where each line is prefixed with its line number."
      ],
      "metadata": {
        "id": "qmbdi37JPQPx"
      }
    },
    {
      "cell_type": "code",
      "source": [
        "with open('text_file.txt', 'r') as f:\n",
        "  with open('numbered_text_file.txt', 'w') as outfile:\n",
        "    for i, line in enumerate(f):\n",
        "      outfile.write(str(i+1) + '. ' + line)\n",
        "\n",
        "# Output:\n",
        "# numbered_text_file.txt:\n",
        "\n",
        "# 1. Hello,\n",
        "# 2. My name is Eric Thomas\n",
        "# 3. I prefer JavaScript language for coding\n",
        "# 4. JavaScript is a versatile programming language. It is widely used in web development, data analysis, and artificial intelligence.\n",
        "# 5. JavaScript supports multiple programming paradigms, including procedural, object-oriented, and functional programming.\n",
        "# 6. JavaScript's syntax is designed to be readable and straightforward.\n",
        "# 7. Many popular libraries and frameworks are built on JavaScript, such as Django and TensorFlow.\n",
        "# 8. JavaScript's popularity has grown significantly over the years due to its simplicity and readability."
      ],
      "metadata": {
        "id": "CeAJygL_PsG2"
      },
      "execution_count": 9,
      "outputs": []
    },
    {
      "cell_type": "markdown",
      "source": [
        "10. Write a Python script that checks if `text_file.txt` exists before trying to read it.\n",
        "Print a message if the file does not exist."
      ],
      "metadata": {
        "id": "PuUeDktTPSM6"
      }
    },
    {
      "cell_type": "code",
      "source": [
        "import os\n",
        "if os.path.exists('text_file.txt'):\n",
        "  with open('text_file.txt', 'r') as f:\n",
        "    print(f.read())\n",
        "else:\n",
        "  print('File not found.')"
      ],
      "metadata": {
        "colab": {
          "base_uri": "https://localhost:8080/"
        },
        "id": "EBL8OYwfPseK",
        "outputId": "cdfe9cd7-3a64-4739-c9b2-0b0c5327943b"
      },
      "execution_count": 10,
      "outputs": [
        {
          "output_type": "stream",
          "name": "stdout",
          "text": [
            "Hello,\n",
            "My name is Eric Thomas\n",
            "I prefer JavaScript language for coding\n",
            "JavaScript is a versatile programming language. It is widely used in web development, data analysis, and artificial intelligence.\n",
            "JavaScript supports multiple programming paradigms, including procedural, object-oriented, and functional programming.\n",
            "JavaScript's syntax is designed to be readable and straightforward.\n",
            "Many popular libraries and frameworks are built on JavaScript, such as Django and TensorFlow.\n",
            "JavaScript's popularity has grown significantly over the years due to its simplicity and readability.\n"
          ]
        }
      ]
    },
    {
      "cell_type": "code",
      "source": [],
      "metadata": {
        "id": "8QyHbNdWQUEU"
      },
      "execution_count": 10,
      "outputs": []
    }
  ]
}